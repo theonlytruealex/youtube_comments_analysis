{
 "cells": [
  {
   "cell_type": "markdown",
   "metadata": {},
   "source": [
    "### Imports"
   ]
  },
  {
   "cell_type": "code",
   "execution_count": 2,
   "metadata": {},
   "outputs": [],
   "source": [
    "import pandas as pd\n",
    "import glob\n",
    "import os\n",
    "import matplotlib.pyplot as plt\n",
    "import seaborn as sns\n",
    "import re"
   ]
  },
  {
   "cell_type": "markdown",
   "metadata": {},
   "source": [
    "### Get CSV files"
   ]
  },
  {
   "cell_type": "code",
   "execution_count": 3,
   "metadata": {},
   "outputs": [],
   "source": [
    "csv_files = glob.glob(os.path.join('', \"csv_files/*.csv\"))\n",
    "\n",
    "df_list = []\n",
    "for file in csv_files:\n",
    "    temp_df = pd.read_csv(file)\n",
    "    df_list.append(temp_df)\n",
    "\n",
    "df = pd.concat(df_list, ignore_index=True)"
   ]
  },
  {
   "cell_type": "markdown",
   "metadata": {},
   "source": [
    "### Analyze Dataframe"
   ]
  },
  {
   "cell_type": "code",
   "execution_count": 4,
   "metadata": {},
   "outputs": [],
   "source": [
    "comment_counts = df['comment'].value_counts()\n",
    "uname_counts = df['user_name'].value_counts()\n",
    "\n",
    "duplicate_comments = comment_counts[comment_counts > 1].index\n",
    "duplicate_comments = df[df['comment'].isin(duplicate_comments)][['user_name', 'comment', 'title']]\n",
    "duplicate_comments = duplicate_comments.replace({r'\\n': ' '}, regex=True).sort_values(by='comment')\n",
    "duplicate_comments.to_csv(\"output_csv/duplicate_comments.csv\", index=False, encoding='utf-8')\n",
    "\n",
    "user_stats = df.groupby('user_name').agg(\n",
    "    number_of_videos=('title', 'nunique'),\n",
    "    number_of_comments=('comment', 'count')\n",
    ").reset_index()\n",
    "user_stats = user_stats[user_stats['number_of_videos'] > 1]\n",
    "\n",
    "duplicate_unames = uname_counts[uname_counts > 1].index\n",
    "duplicate_unames = df[df['user_name'].isin(user_stats['user_name'])][['user_name', 'comment', 'title']]\n",
    "duplicate_unames = duplicate_unames.replace({r'\\n': ' '}, regex=True).sort_values(by='user_name')\n",
    "duplicate_unames.to_csv(\"output_csv/duplicate_user_names.csv\", index=False, encoding='utf-8')\n",
    "\n",
    "\n",
    "user_stats.to_csv(\"output_csv/user_stats.csv\", index=False, encoding='utf-8')"
   ]
  },
  {
   "cell_type": "markdown",
   "metadata": {},
   "source": [
    "### Visualise Videos with duplicate comments and usernames"
   ]
  },
  {
   "cell_type": "code",
   "execution_count": null,
   "metadata": {},
   "outputs": [],
   "source": [
    "video_usernames = df.groupby('title')['user_name'].nunique()\n",
    "\n",
    "def count_usernames_in_other_videos(video, video_usernames):\n",
    "    video_usernames_set = set(video_usernames)\n",
    "    usernames_in_other_videos = 0\n",
    "\n",
    "    for username in video_usernames_set:\n",
    "        other_videos = df[df['user_name'] == username]\n",
    "        other_videos = other_videos[~other_videos['title'].isin([video['title'].iloc[0]])]\n",
    "        if not other_videos.empty:\n",
    "            usernames_in_other_videos += 1\n",
    "\n",
    "    return usernames_in_other_videos\n",
    "\n",
    "def count_comments_in_other_videos(video, video_comments, video_name):\n",
    "    video_comments_set = set(video_comments)\n",
    "    comments_in_other_videos = 0\n",
    "\n",
    "    for comment in video_comments_set:\n",
    "        other_videos = df[df['comment'] == comment]\n",
    "        other_videos = other_videos[~other_videos['title'].isin([video['title'].iloc[0]])]\n",
    "        if not other_videos.empty:\n",
    "            comments_in_other_videos += 1\n",
    "\n",
    "    return comments_in_other_videos\n",
    "\n",
    "usernames_in_other_videos_list = []\n",
    "comments_in_other_videos_list = []\n",
    "video_names = []\n",
    "\n",
    "for video_name, video in df.groupby('title'):\n",
    "    video_usernames = video['user_name'].unique()\n",
    "    video_comments = video['comment'].unique()\n",
    "    \n",
    "    usernames_in_other_videos = count_usernames_in_other_videos(video, video_usernames)\n",
    "    comments_in_other_videos = count_comments_in_other_videos(video, video_comments, video_name)\n",
    "    \n",
    "    usernames_in_other_videos_list.append(usernames_in_other_videos)\n",
    "    comments_in_other_videos_list.append(comments_in_other_videos)\n",
    "    video_names.append(video_name)\n",
    "\n",
    "results_df = pd.DataFrame({\n",
    "    'video_name': video_names,\n",
    "    'usernames_in_other_videos': usernames_in_other_videos_list,\n",
    "    'comments_in_other_videos': comments_in_other_videos_list\n",
    "})\n",
    "\n",
    "fig, axes = plt.subplots(1, 2, figsize=(14, 7))\n",
    "\n",
    "sns.barplot(x=results_df['video_name'], y=results_df['usernames_in_other_videos'], ax=axes[0])\n",
    "axes[0].set_title('Number of Usernames in Other Videos per Video')\n",
    "axes[0].set_xlabel('Video')\n",
    "axes[0].set_ylabel('Number of Usernames')\n",
    "axes[0].tick_params(axis='x', rotation=90)\n",
    "\n",
    "sns.barplot(x=results_df['video_name'], y=results_df['comments_in_other_videos'], ax=axes[1])\n",
    "axes[1].set_title('Number of Comments in Other Videos per Video')\n",
    "axes[1].set_xlabel('Video')\n",
    "axes[1].set_ylabel('Number of Comments')\n",
    "axes[1].tick_params(axis='x', rotation=90)\n",
    "\n",
    "plt.tight_layout()\n",
    "plt.show()"
   ]
  },
  {
   "cell_type": "markdown",
   "metadata": {},
   "source": [
    "### Analyse repetition of users and comments accross videos"
   ]
  },
  {
   "cell_type": "code",
   "execution_count": null,
   "metadata": {},
   "outputs": [],
   "source": [
    "def count_usernames_in_other_videos(video, video_usernames):\n",
    "    video_usernames_set = set(video_usernames)\n",
    "    \n",
    "    usernames_in_other_videos = 0\n",
    "    for username in video_usernames_set:\n",
    "        other_videos = df[df['user_name'] == username]\n",
    "        other_videos = other_videos[~other_videos['title'].isin([video['title'].iloc[0]])]\n",
    "        if not other_videos.empty:\n",
    "            usernames_in_other_videos += 1\n",
    "    return usernames_in_other_videos\n",
    "\n",
    "def count_comments_in_other_videos(video, video_comments):\n",
    "    video_comments_set = set(video_comments)\n",
    "    \n",
    "    comments_in_other_videos = 0\n",
    "    for comment in video_comments_set:\n",
    "        other_videos = df[df['comment'] == comment]\n",
    "        other_videos = other_videos[~other_videos['title'].isin([video['title'].iloc[0]])]\n",
    "        if not other_videos.empty:\n",
    "            comments_in_other_videos += 1\n",
    "    return comments_in_other_videos\n",
    "\n",
    "usernames_in_other_videos_list = []\n",
    "comments_in_other_videos_list = []\n",
    "video_names = []\n",
    "comments_count_list = []\n",
    "\n",
    "for video_name, video in df.groupby('title'):\n",
    "    video_usernames = video['user_name'].unique()\n",
    "    video_comments = video['comment'].unique()\n",
    "    \n",
    "    usernames_in_other_videos = count_usernames_in_other_videos(video, video_usernames)\n",
    "    comments_in_other_videos = count_comments_in_other_videos(video, video_comments)\n",
    "    \n",
    "    usernames_in_other_videos_list.append(usernames_in_other_videos)\n",
    "    comments_in_other_videos_list.append(comments_in_other_videos)\n",
    "    video_names.append(video_name)\n",
    "    comments_count_list.append(len(video_comments))\n",
    "\n",
    "results_df = pd.DataFrame({\n",
    "    'video_name': video_names,\n",
    "    'usernames_in_other_videos': usernames_in_other_videos_list,\n",
    "    'comments_in_other_videos': comments_in_other_videos_list,\n",
    "    'comments_count': comments_count_list\n",
    "})\n",
    "\n",
    "fig, axes = plt.subplots(1, 2, figsize=(14, 7))\n",
    "\n",
    "sns.scatterplot(x=results_df['comments_count'], y=results_df['usernames_in_other_videos'], ax=axes[0])\n",
    "axes[0].set_title('Usernames in Other Videos vs. Number of Comments')\n",
    "axes[0].set_xlabel('Number of Comments')\n",
    "axes[0].set_ylabel('Number of Usernames in Other Videos')\n",
    "\n",
    "for i in range(len(results_df)):\n",
    "    axes[0].annotate(results_df['video_name'].iloc[i], \n",
    "                     (results_df['comments_count'].iloc[i], results_df['usernames_in_other_videos'].iloc[i]),\n",
    "                     textcoords=\"offset points\", xytext=(0, 5), ha='center')\n",
    "\n",
    "sns.scatterplot(x=results_df['comments_count'], y=results_df['comments_in_other_videos'], ax=axes[1])\n",
    "axes[1].set_title('Comments in Other Videos vs. Number of Comments')\n",
    "axes[1].set_xlabel('Number of Comments')\n",
    "axes[1].set_ylabel('Number of Comments in Other Videos')\n",
    "\n",
    "for i in range(len(results_df)):\n",
    "    axes[1].annotate(results_df['video_name'].iloc[i], \n",
    "                     (results_df['comments_count'].iloc[i], results_df['comments_in_other_videos'].iloc[i]),\n",
    "                     textcoords=\"offset points\", xytext=(0, 5), ha='center')\n",
    "\n",
    "plt.tight_layout()\n",
    "plt.show()"
   ]
  },
  {
   "cell_type": "markdown",
   "metadata": {},
   "source": [
    "### Filter using Regex"
   ]
  },
  {
   "cell_type": "code",
   "execution_count": null,
   "metadata": {},
   "outputs": [],
   "source": [
    "\n",
    "def filter_by_pattern(val):\n",
    "    pattern = r''\n",
    "    if isinstance(val, str):\n",
    "        mo = re.search(pattern, val)\n",
    "        if mo:\n",
    "            return True\n",
    "    return False\n",
    "\n",
    "\n",
    "filtered_df = df[df['user_name'].apply(filter_by_pattern)]\n"
   ]
  }
 ],
 "metadata": {
  "kernelspec": {
   "display_name": ".venv",
   "language": "python",
   "name": "python3"
  },
  "language_info": {
   "codemirror_mode": {
    "name": "ipython",
    "version": 3
   },
   "file_extension": ".py",
   "mimetype": "text/x-python",
   "name": "python",
   "nbconvert_exporter": "python",
   "pygments_lexer": "ipython3",
   "version": "3.12.3"
  }
 },
 "nbformat": 4,
 "nbformat_minor": 2
}
